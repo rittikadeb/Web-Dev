{
 "cells": [
  {
   "cell_type": "markdown",
   "id": "2c6c38b8-c5b2-4dcd-8afe-ad84e15f66a5",
   "metadata": {},
   "source": [
    "![Naas](https://landen.imgix.net/jtci2pxwjczr/assets/5ice39g4.png?w=160)"
   ]
  },
  {
   "cell_type": "markdown",
   "id": "0e39dded-75e8-4754-86c8-7591ca66622d",
   "metadata": {
    "execution": {
     "iopub.execute_input": "2023-10-17T19:42:46.782817Z",
     "iopub.status.busy": "2023-10-17T19:42:46.782423Z",
     "iopub.status.idle": "2023-10-17T19:42:46.800972Z",
     "shell.execute_reply": "2023-10-17T19:42:46.800056Z",
     "shell.execute_reply.started": "2023-10-17T19:42:46.782739Z"
    }
   },
   "source": [
    "# Matplotlib- Correlation Heatmap\n",
    "[![Open in Naas Lab](https://naasai-public.s3.eu-west-3.amazonaws.com/Open_in_Naas_Lab.svg)](https://app.naas.ai/user-redirect/naas/downloader?url=https://raw.githubusercontent.com/jupyter-naas/awesome-notebooks/master/HubSpot/HubSpot_Delete_Task.ipynb)\n",
    "\n",
    "[Give Feedback](https://bit.ly/3JyWIk6) | [Bug report](https://github.com/jupyter-naas/awesome-notebooks/issues/new?assignees=&labels=bug&template=bug_report.md&title=HubSpot+-+Delete+Task:+Error+short+description)\n"
   ]
  },
  {
   "cell_type": "markdown",
   "id": "8451b91d-cd39-4230-a681-af49b210889a",
   "metadata": {
    "execution": {
     "iopub.execute_input": "2023-10-17T19:43:09.611403Z",
     "iopub.status.busy": "2023-10-17T19:43:09.611168Z",
     "iopub.status.idle": "2023-10-17T19:43:09.621539Z",
     "shell.execute_reply": "2023-10-17T19:43:09.620632Z",
     "shell.execute_reply.started": "2023-10-17T19:43:09.611377Z"
    }
   },
   "source": [
    "**Tags:** #matplotlib #correlation #heatmap #dataviz #snippet"
   ]
  },
  {
   "cell_type": "markdown",
   "id": "f344c707-9b96-4e72-95e9-59d96c196577",
   "metadata": {
    "execution": {
     "iopub.execute_input": "2023-10-17T19:43:37.175702Z",
     "iopub.status.busy": "2023-10-17T19:43:37.175486Z",
     "iopub.status.idle": "2023-10-17T19:43:37.184575Z",
     "shell.execute_reply": "2023-10-17T19:43:37.183691Z",
     "shell.execute_reply.started": "2023-10-17T19:43:37.175680Z"
    }
   },
   "source": [
    "**Author:** [Rittika Deb](https://www.linkedin.com/in/rittika-deb/)"
   ]
  },
  {
   "cell_type": "markdown",
   "id": "c046819c-9731-495b-9a2d-88295bedac77",
   "metadata": {},
   "source": [
    "**Last update:** 2023-10-18 (Created: 2023-10-17)"
   ]
  },
  {
   "cell_type": "markdown",
   "id": "61a08652-17ef-40e0-bb60-80ced5418706",
   "metadata": {
    "execution": {
     "iopub.execute_input": "2023-10-17T19:44:15.353759Z",
     "iopub.status.busy": "2023-10-17T19:44:15.353540Z",
     "iopub.status.idle": "2023-10-17T19:44:15.371785Z",
     "shell.execute_reply": "2023-10-17T19:44:15.370940Z",
     "shell.execute_reply.started": "2023-10-17T19:44:15.353738Z"
    }
   },
   "source": [
    "**Description:** This template will create a correlation heatmap. "
   ]
  },
  {
   "cell_type": "markdown",
   "id": "6dbaf9eb-d312-4b7a-98f3-16d147070c1c",
   "metadata": {
    "execution": {
     "iopub.execute_input": "2023-10-17T19:44:24.652462Z",
     "iopub.status.busy": "2023-10-17T19:44:24.652181Z",
     "iopub.status.idle": "2023-10-17T19:44:24.655495Z",
     "shell.execute_reply": "2023-10-17T19:44:24.654870Z",
     "shell.execute_reply.started": "2023-10-17T19:44:24.652433Z"
    }
   },
   "source": [
    "## Input"
   ]
  },
  {
   "cell_type": "markdown",
   "id": "a0f5b859-a774-4160-844e-f66291977b43",
   "metadata": {},
   "source": [
    "### Import libraries"
   ]
  },
  {
   "cell_type": "code",
   "execution_count": 105,
   "id": "51331bcb-05e5-41f6-8e8a-4c32b491f0d3",
   "metadata": {
    "execution": {
     "iopub.execute_input": "2023-10-17T20:56:15.117078Z",
     "iopub.status.busy": "2023-10-17T20:56:15.116826Z",
     "iopub.status.idle": "2023-10-17T20:56:15.120301Z",
     "shell.execute_reply": "2023-10-17T20:56:15.119646Z",
     "shell.execute_reply.started": "2023-10-17T20:56:15.117055Z"
    },
    "tags": []
   },
   "outputs": [],
   "source": [
    "import numpy as np\n",
    "import pandas as pd\n",
    "import matplotlib.pyplot as plt\n",
    "import naas"
   ]
  },
  {
   "cell_type": "markdown",
   "id": "488c7a3e-0507-46d9-a104-c0c1ffbf0d1d",
   "metadata": {},
   "source": [
    "### Setup Variables\n",
    "- `data`: An array representing an 8x8 grid of data points.\n",
    "- `fig_path`: The file path or name for the output image file of the graph, saved as \"fig.png\"."
   ]
  },
  {
   "cell_type": "code",
   "execution_count": 106,
   "id": "aceb52d7-9c1f-4499-83e1-b19a2892a2db",
   "metadata": {
    "execution": {
     "iopub.execute_input": "2023-10-17T20:56:16.538354Z",
     "iopub.status.busy": "2023-10-17T20:56:16.538111Z",
     "iopub.status.idle": "2023-10-17T20:56:16.547488Z",
     "shell.execute_reply": "2023-10-17T20:56:16.546878Z",
     "shell.execute_reply.started": "2023-10-17T20:56:16.538329Z"
    },
    "tags": []
   },
   "outputs": [],
   "source": [
    "#Inputs\n",
    "data = {\n",
    "    'A': np.random.rand(100),\n",
    "    'B': np.random.rand(100),\n",
    "    'C': np.random.rand(100),\n",
    "    'D': np.random.rand(100)\n",
    "}\n",
    "\n",
    "\n",
    "# Outputs\n",
    "fig_path = \"Matplotlib_Correlation_Heatmap.png\""
   ]
  },
  {
   "cell_type": "code",
   "execution_count": 107,
   "id": "df21e7e5-7387-4926-b1b7-73c4963f0e2d",
   "metadata": {
    "execution": {
     "iopub.execute_input": "2023-10-17T20:56:17.261801Z",
     "iopub.status.busy": "2023-10-17T20:56:17.261574Z",
     "iopub.status.idle": "2023-10-17T20:56:17.265468Z",
     "shell.execute_reply": "2023-10-17T20:56:17.264801Z",
     "shell.execute_reply.started": "2023-10-17T20:56:17.261779Z"
    },
    "tags": []
   },
   "outputs": [],
   "source": [
    "df = pd.DataFrame(data)"
   ]
  },
  {
   "cell_type": "markdown",
   "id": "886b440d-7b2f-4554-b899-038d57805d02",
   "metadata": {},
   "source": [
    "## Model"
   ]
  },
  {
   "cell_type": "markdown",
   "id": "b2814f35-eaa6-4d10-abe9-a801f2aea0d7",
   "metadata": {},
   "source": [
    "The model calculates a correlation matrix from a DataFrame, creates a heatmap representation of this matrix with text annotations , utilizing Matplotlib. The annotations show the correlation coefficients between variables in the dataset, and the heatmap's color intensity represents the strength and direction of the correlations."
   ]
  },
  {
   "cell_type": "code",
   "execution_count": 108,
   "id": "abd32e14-4458-4d1f-988e-833364d31717",
   "metadata": {
    "execution": {
     "iopub.execute_input": "2023-10-17T20:56:19.217021Z",
     "iopub.status.busy": "2023-10-17T20:56:19.216785Z",
     "iopub.status.idle": "2023-10-17T20:56:19.220755Z",
     "shell.execute_reply": "2023-10-17T20:56:19.220047Z",
     "shell.execute_reply.started": "2023-10-17T20:56:19.216998Z"
    },
    "tags": []
   },
   "outputs": [],
   "source": [
    "correlation_matrix = df.corr()"
   ]
  },
  {
   "cell_type": "code",
   "execution_count": 109,
   "id": "fc012f8c-523f-4c76-a8ad-b25c8fc1f583",
   "metadata": {
    "execution": {
     "iopub.execute_input": "2023-10-17T20:56:19.773315Z",
     "iopub.status.busy": "2023-10-17T20:56:19.773022Z",
     "iopub.status.idle": "2023-10-17T20:56:19.776677Z",
     "shell.execute_reply": "2023-10-17T20:56:19.776041Z",
     "shell.execute_reply.started": "2023-10-17T20:56:19.773285Z"
    },
    "tags": []
   },
   "outputs": [],
   "source": [
    "xlabs = correlation_matrix.columns\n",
    "ylabs = correlation_matrix.index"
   ]
  },
  {
   "cell_type": "markdown",
   "id": "2de7bc9a-ffad-431e-a9d9-9815177166a8",
   "metadata": {},
   "source": [
    "### Create the Correlation Heatmap"
   ]
  },
  {
   "cell_type": "code",
   "execution_count": 110,
   "id": "6a00dfbc-44b9-40e8-ab86-35499d3f17a4",
   "metadata": {
    "execution": {
     "iopub.execute_input": "2023-10-17T20:56:21.932287Z",
     "iopub.status.busy": "2023-10-17T20:56:21.932038Z",
     "iopub.status.idle": "2023-10-17T20:56:22.172760Z",
     "shell.execute_reply": "2023-10-17T20:56:22.172194Z",
     "shell.execute_reply.started": "2023-10-17T20:56:21.932253Z"
    },
    "tags": []
   },
   "outputs": [
    {
     "data": {
      "image/png": "[encoded data removed]",
      "text/plain": [
       "<Figure size 576x432 with 2 Axes>"
      ]
     },
     "metadata": {
      "needs_background": "light"
     },
     "output_type": "display_data"
    }
   ],
   "source": [
    "fig, ax = plt.subplots(figsize=(8,6))\n",
    "im= ax.imshow(correlation_matrix, cmap='coolwarm', interpolation='none', aspect='auto')\n",
    "fig.colorbar(im)\n",
    "plt.title('Correlation Heatmap')\n",
    "plt.xticks(np.arange(len(xlabs)), xlabs, rotation=90)\n",
    "plt.yticks(np.arange(len(ylabs)), ylabs)\n",
    "\n",
    "for i in range(len(ylabs)):\n",
    "    for j in range(len(xlabs)):\n",
    "        text = ax.text(j, i, f'{correlation_matrix.iloc[i, j]:.2f}',\n",
    "                       ha=\"center\", va=\"center\", color=\"w\")\n",
    "\n",
    "plt.show()"
   ]
  },
  {
   "cell_type": "markdown",
   "id": "c176bb59-336d-4fa5-bd1c-c9c9ae798513",
   "metadata": {},
   "source": [
    "## Output"
   ]
  },
  {
   "cell_type": "markdown",
   "id": "23d7b7af-9ce2-458b-8e71-135c9fab3f05",
   "metadata": {},
   "source": [
    "### Save figure"
   ]
  },
  {
   "cell_type": "code",
   "execution_count": 111,
   "id": "670fe9bd-e7c6-49cd-803f-34809224bc61",
   "metadata": {
    "execution": {
     "iopub.execute_input": "2023-10-17T20:56:27.536937Z",
     "iopub.status.busy": "2023-10-17T20:56:27.536705Z",
     "iopub.status.idle": "2023-10-17T20:56:27.661718Z",
     "shell.execute_reply": "2023-10-17T20:56:27.661106Z",
     "shell.execute_reply.started": "2023-10-17T20:56:27.536914Z"
    },
    "tags": []
   },
   "outputs": [],
   "source": [
    "fig.savefig(fig_path)"
   ]
  },
  {
   "cell_type": "markdown",
   "id": "4ffd3dda-dac9-4192-91bb-61428a01fc2e",
   "metadata": {},
   "source": [
    "### Share asset with naas"
   ]
  },
  {
   "cell_type": "code",
   "execution_count": 112,
   "id": "69bc5518-d9f4-438f-9695-38542013ce23",
   "metadata": {
    "execution": {
     "iopub.execute_input": "2023-10-17T20:56:29.897912Z",
     "iopub.status.busy": "2023-10-17T20:56:29.897684Z",
     "iopub.status.idle": "2023-10-17T20:56:30.389495Z",
     "shell.execute_reply": "2023-10-17T20:56:30.388776Z",
     "shell.execute_reply.started": "2023-10-17T20:56:29.897889Z"
    },
    "tags": []
   },
   "outputs": [
    {
     "name": "stdout",
     "output_type": "stream",
     "text": [
      "👌 Well done! Your Assets has been sent to production.\n",
      "\n"
     ]
    },
    {
     "data": {
      "application/javascript": [
       "\n",
       "    if (!window.copyToClipboard) {\n",
       "        window.copyToClipboard = (text) => {\n",
       "            const dummy = document.createElement(\"textarea\");\n",
       "            document.body.appendChild(dummy);\n",
       "            dummy.value = text;\n",
       "            dummy.select();\n",
       "            document.execCommand(\"copy\");\n",
       "            document.body.removeChild(dummy);\n",
       "        }\n",
       "    }\n",
       "    "
      ],
      "text/plain": [
       "<IPython.core.display.Javascript object>"
      ]
     },
     "metadata": {},
     "output_type": "display_data"
    },
    {
     "data": {
      "application/vnd.jupyter.widget-view+json": {
       "model_id": "a11a1d2a651a481593523b8466b5ca58",
       "version_major": 2,
       "version_minor": 0
      },
      "text/plain": [
       "Button(button_style='primary', description='Copy URL', style=ButtonStyle())"
      ]
     },
     "metadata": {},
     "output_type": "display_data"
    },
    {
     "data": {
      "application/vnd.jupyter.widget-view+json": {
       "model_id": "e232d30d77f0483bbc51fd14372064bb",
       "version_major": 2,
       "version_minor": 0
      },
      "text/plain": [
       "Output()"
      ]
     },
     "metadata": {},
     "output_type": "display_data"
    },
    {
     "name": "stdout",
     "output_type": "stream",
     "text": [
      "PS: to remove the \"Assets\" feature, just replace .add by .delete\n"
     ]
    },
    {
     "data": {
      "text/plain": [
       "'https://public.naas.ai/cml0dGlrYS0yRWRlYjg2LTQwZ21haWwtMkVjb20=/asset/d203e9b463dda9f97c5b52507cf954895c516093bfbb9ca37579be5b16b3.png'"
      ]
     },
     "execution_count": 112,
     "metadata": {},
     "output_type": "execute_result"
    }
   ],
   "source": [
    "naas.asset.add(fig_path, params={\"inline\": True})"
   ]
  }
 ],
 "metadata": {
  "kernelspec": {
   "display_name": "Python 3",
   "language": "python",
   "name": "python3"
  },
  "language_info": {
   "codemirror_mode": {
    "name": "ipython",
    "version": 3
   },
   "file_extension": ".py",
   "mimetype": "text/x-python",
   "name": "python",
   "nbconvert_exporter": "python",
   "pygments_lexer": "ipython3",
   "version": "3.9.6"
  }
 },
 "nbformat": 4,
 "nbformat_minor": 5
}
